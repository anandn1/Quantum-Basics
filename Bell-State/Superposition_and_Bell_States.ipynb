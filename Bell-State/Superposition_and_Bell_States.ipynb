{
 "cells": [
  {
   "cell_type": "code",
   "execution_count": null,
   "id": "0a03c60a-79ad-4a29-9efc-eb8b4f2d5dcf",
   "metadata": {},
   "outputs": [],
   "source": [
    "from qiskit import QuantumCircuit \n",
    "from qiskit_aer import Aer #Aer is used to simulate noise"
   ]
  },
  {
   "cell_type": "markdown",
   "id": "57d3f166-5c30-4bdb-bbe3-d54fe51b9d14",
   "metadata": {},
   "source": [
    "# Demonstrating Superposition\n",
    "The following cells applies a Hadamard gate to a single qubit, creating a superposition state (|0⟩ + |1⟩)/√2 (i.e |+>, and measures it."
   ]
  },
  {
   "cell_type": "code",
   "execution_count": 12,
   "id": "548af488-0655-4c19-82de-bf45ccb80afc",
   "metadata": {},
   "outputs": [
    {
     "data": {
      "image/png": "[encoded data removed]",
      "text/plain": [
       "<Figure size 269.064x200.667 with 1 Axes>"
      ]
     },
     "execution_count": 12,
     "metadata": {},
     "output_type": "execute_result"
    }
   ],
   "source": [
    "#Create a Circuit with one qubit and one classical bit\n",
    "qc1 = QuantumCircuit(1,1)\n",
    "#Now Apply the Hadamard Gate on the qubit\n",
    "qc1.h(0)\n",
    "#Meausure the qubit \n",
    "qc1.measure(0,0)\n",
    "\"\"\"print circuit, note that \"mpl\" refers to matplotlib,which needs to downloaded. print(qc1.draw()) also gives you a diagram though not very visually appealing, \"\"\"\n",
    "qc1.draw(\"mpl\")\n"
   ]
  },
  {
   "cell_type": "markdown",
   "id": "9fee6a07-66c9-454c-b378-64eda5afc634",
   "metadata": {},
   "source": [
    "The cell below runs the circuit on a simulator created locally. The results should be around 50% for each of the cells,which will vary slightly when the cells above and below are repeatedly run"
   ]
  },
  {
   "cell_type": "code",
   "execution_count": 13,
   "id": "dec865c2-f280-4d71-9dc7-c9afd0dbe0fc",
   "metadata": {},
   "outputs": [
    {
     "name": "stdout",
     "output_type": "stream",
     "text": [
      "Superposition counts: {'0': 502, '1': 498}\n"
     ]
    }
   ],
   "source": [
    "#run on simulator\n",
    "backend=Aer.get_backend('qasm_simulator')\n",
    "job=backend.run(qc1,shots=1000)\n",
    "result=job.result()\n",
    "counts =result.get_counts()\n",
    "print(\"Superposition counts:\", counts)"
   ]
  },
  {
   "cell_type": "markdown",
   "id": "e27746fc-c1f4-4597-b940-32eb7cd695dd",
   "metadata": {},
   "source": [
    "## Results of the Superposition Cell\n",
    "\n",
    "The results show counts of approximately 50% '0' and 50% '1' (e.g., {'0': 512, '1': 488}), with slight variations upon rerunning the cell. This confirms the qubit was in superposition after the Hadamard gate. Here's why:\n",
    "\n",
    "- **Initial State**: The qubit starts in |0⟩, represented as the vector [1, 0], meaning it's fully in the |0⟩ state.\n",
    "- **Hadamard Gate**: Applying the Hadamard gate transforms the qubit to (|0⟩ + |1⟩)/√2, a superposition state where it is equally in both |0⟩ and |1⟩ states. In vector form, this is [1/√2, 1/√2].\n",
    "- **Superposition**: This state means the qubit isn't definitely |0⟩ or |1⟩ but a combination of both, a key quantum concept.\n",
    "- **Measurement**: When measured, the qubit collapses to either |0⟩ or |1⟩. The probability of each outcome is (1/√2)^2 = 0.5, or 50%, which is why we see ~50% '0' and 50% '1'.\n",
    "- **Simulator Results**: The Aer QASM simulator ran the circuit 1000 times (shots=1000), sampling the outcomes. The counts reflect the 50/50 probability, with slight variations (e.g., 512/488, then 495/505) due to the probabilistic nature of quantum measurements and the finite number of shots.\n",
    "- **Significance**: These results confirm the qubit was in superposition, demonstrating a fundamental quantum principle. This sets the stage for creating entangled states, as in the next cell with the Bell state.> and |1>. When it is measured,it collapses into either 0 or 1,which have equal chances of occuring (i.e (1/sqrt(2))^2=0.5).\n",
    "  Let's have a look on entanglement"
   ]
  },
  {
   "cell_type": "code",
   "execution_count": null,
   "id": "836d7fc8-a0ca-402b-936f-18d45db98a37",
   "metadata": {},
   "outputs": [],
   "source": []
  }
 ],
 "metadata": {
  "kernelspec": {
   "display_name": "Python 3 (ipykernel)",
   "language": "python",
   "name": "python3"
  },
  "language_info": {
   "codemirror_mode": {
    "name": "ipython",
    "version": 3
   },
   "file_extension": ".py",
   "mimetype": "text/x-python",
   "name": "python",
   "nbconvert_exporter": "python",
   "pygments_lexer": "ipython3",
   "version": "3.12.3"
  }
 },
 "nbformat": 4,
 "nbformat_minor": 5
}
